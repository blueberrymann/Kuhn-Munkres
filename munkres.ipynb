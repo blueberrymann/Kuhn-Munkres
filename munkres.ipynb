{
 "cells": [
  {
   "metadata": {},
   "cell_type": "markdown",
   "source": [
    "## Kuhn-Munkres 算法代码实现\n",
    "### 准备工作\n",
    "- 导入相关包"
   ],
   "id": "5674aad842962f90"
  },
  {
   "cell_type": "code",
   "id": "initial_id",
   "metadata": {
    "collapsed": true,
    "ExecuteTime": {
     "end_time": "2024-12-03T07:34:48.244432Z",
     "start_time": "2024-12-03T07:34:48.094344Z"
    }
   },
   "source": [
    "import sys\n",
    "import copy\n",
    "from typing import Union, NewType, Sequence, Tuple, Optional, Callable\n",
    "import numpy as np"
   ],
   "outputs": [],
   "execution_count": 1
  },
  {
   "metadata": {},
   "cell_type": "markdown",
   "source": [
    "\n",
    "- 接下来，定义类型\n",
    "    - 分别定义实数和矩阵\n",
    "    - 实数由整型和浮点型构成\n",
    "    - 矩阵类型是数字的二位序列\n",
    "- 补充知识：Sequence 序列是Python中的一种基本数据结构概念，具有有序性、支持索引访问、支持切片、可迭代的特性\n",
    "- 常见的Sequence类型包括：\n",
    "```python\n",
    "# 列表（可变）\n",
    "list_example = [1, 2, 3]\n",
    "\n",
    "# 元组（不可变）\n",
    "tuple_exmaple = (1, 2, 3)\n",
    "\n",
    "# 字符串（不可变）\n",
    "string_exmaple = \"123\"\n",
    "```"
   ],
   "id": "a39c5bcbe727f6bf"
  },
  {
   "metadata": {
    "ExecuteTime": {
     "end_time": "2024-12-03T07:34:48.260394Z",
     "start_time": "2024-12-03T07:34:48.252450Z"
    }
   },
   "cell_type": "code",
   "source": [
    "AnyNum = NewType('AnyNum', Union[int, float]) # 定义实数类型\n",
    "Matrix = NewType('Matrix', Sequence[Sequence[AnyNum]]) # 定义矩阵类型"
   ],
   "id": "d353b3ef6acc329a",
   "outputs": [],
   "execution_count": 2
  },
  {
   "metadata": {},
   "cell_type": "markdown",
   "source": [
    "- 定义了两个重要的类，用来标记矩阵中不允许配对的位置\n",
    "- 创建唯一标记的简单类\n",
    "- 这个类中什么也不用做（pass语句），但是创建了这个类的唯一实例DISALLOWED用于表示不允许配对的位置\n",
    "- 使用类实例，而不是简单的数值或者字符串，这样做的好处有：\n",
    "    - 确保这个标记是唯一的，不会与矩阵中的其他值混淆\n",
    "    - 不会被误用于数学运算"
   ],
   "id": "81ceaac2ac6e8de2"
  },
  {
   "metadata": {
    "ExecuteTime": {
     "end_time": "2024-12-03T07:34:48.276349Z",
     "start_time": "2024-12-03T07:34:48.266374Z"
    }
   },
   "cell_type": "code",
   "source": [
    "class DISALLOWED_OBJ(object):\n",
    "    pass\n",
    "DISALLOWED = DISALLOWED_OBJ()\n",
    "DISALLOWED_PRINTVALUE = 'D'"
   ],
   "id": "49311a1c92155993",
   "outputs": [],
   "execution_count": 3
  },
  {
   "metadata": {},
   "cell_type": "markdown",
   "source": "- 接下来，定义一个异常类",
   "id": "41728b6a5bbea05b"
  },
  {
   "metadata": {
    "ExecuteTime": {
     "end_time": "2024-12-03T07:34:48.369881Z",
     "start_time": "2024-12-03T07:34:48.355335Z"
    }
   },
   "cell_type": "code",
   "source": [
    "class UnsolveableMatrix(Exception):\n",
    "    pass\n"
   ],
   "id": "866461decd2b2747",
   "outputs": [],
   "execution_count": 4
  },
  {
   "metadata": {},
   "cell_type": "markdown",
   "source": [
    "## 算法实现\n",
    "- 效用函数$$u_c(x_i)=\\frac{x_i}{\\sum^{N}_{n=1}x_n}\\sum^{N}_{n=1}p_n-\\epsilon \\sigma_i x_i$$\n",
    "### 对于下方代码的解释：\n",
    "- `-> float`表示这个函数返回的是一个浮点数值\n",
    "- `np.ndarray`是numpy的数组类型，可以存储多个数值"
   ],
   "id": "6245da5179c4fcab"
  },
  {
   "metadata": {
    "ExecuteTime": {
     "end_time": "2024-12-03T07:34:48.416562Z",
     "start_time": "2024-12-03T07:34:48.401612Z"
    }
   },
   "cell_type": "code",
   "source": [
    "def calculate_utility(x_i: float, x: np.ndarray, p: np.ndarray, sigma_i: float, epsilon: float) -> float:\n",
    "    \"\"\"\n",
    "    计算效用函数 u_c(x_i) = (x_i / sum(x_n)) * (sum(p_n) - epsilon * sigma_i * x_i)\n",
    "\n",
    "    参数:\n",
    "    x_i: float - 当前的 x 值\n",
    "    x: np.ndarray - 所有 x 值的数组\n",
    "    p: np.ndarray - p_n 值的数组\n",
    "    sigma_i: float - σi 值\n",
    "    epsilon: float - ε 值\n",
    "\n",
    "    返回:\n",
    "    float: 计算得到的效用值\n",
    "    \"\"\"\n",
    "    # 计算分母部分（所有 x 的和）\n",
    "    x_sum = np.sum(x)\n",
    "\n",
    "    # 计算第一个系数 (x_i / sum(x_n))\n",
    "    coefficient = x_i / x_sum\n",
    "\n",
    "    # 计算括号内的部分 (sum(p_n) - epsilon * sigma_i * x_i)\n",
    "    p_sum = np.sum(p)\n",
    "    bracket_term = p_sum - epsilon * sigma_i * x_i\n",
    "\n",
    "    # 计算最终结果\n",
    "    utility = coefficient * bracket_term\n",
    "\n",
    "    return utility"
   ],
   "id": "fd63bd0938cd268",
   "outputs": [],
   "execution_count": 5
  },
  {
   "metadata": {},
   "cell_type": "markdown",
   "source": [
    "### 构建Munkres类\n",
    "- 构建Munkres算法类，实现算法中的每一个步骤"
   ],
   "id": "6c7f01ed6a832b09"
  },
  {
   "metadata": {
    "ExecuteTime": {
     "end_time": "2024-12-03T07:34:48.431645Z",
     "start_time": "2024-12-03T07:34:48.421466Z"
    }
   },
   "cell_type": "code",
   "source": [
    "class Munkres:\n",
    "\n",
    "\n",
    "    def __init__(self):\n",
    "        \"\"\"\n",
    "        类的构造函数，在创建类的新实例时自动调用\n",
    "        \"\"\"\n",
    "        self.C = None # 成本矩阵\n",
    "        self.row_covered = [] # 记录已覆盖的行\n",
    "        self.col_covered = [] # 记录已覆盖的列\n",
    "        self.n = 0  # 矩阵维度\n",
    "        self.Z0_r = 0  # 当前位置的行坐标\n",
    "        self.Z0_c = 0  # 当前位置的列坐标\n",
    "        self.marked = None  # 标记矩阵\n",
    "        self.path = None  # 路径记录\n"
   ],
   "id": "5f01f42dbd3cf03c",
   "outputs": [],
   "execution_count": 6
  },
  {
   "metadata": {},
   "cell_type": "markdown",
   "source": [
    "- `[pad_value]`创建一个只含填充值的列表\n",
    "- `* (total_rows - row_len)`将这个列表重复指定列数\n",
    "- `+=`将生成的列表添加到`new_row`末尾"
   ],
   "id": "21d104ca0e59ff1a"
  },
  {
   "metadata": {
    "ExecuteTime": {
     "end_time": "2024-12-03T07:34:48.463756Z",
     "start_time": "2024-12-03T07:34:48.448599Z"
    }
   },
   "cell_type": "code",
   "source": [
    "\n",
    "    def pad_matrix(self, matrix: Matrix, pad_value: int = 0)-> Matrix:\n",
    "\n",
    "        \"\"\"\n",
    "        self表示这是类的方法\n",
    "        pad_value用于填充矩阵的值，默认为0\n",
    "        -> Matrix：表示返回一个矩阵\n",
    "        \"\"\"\n",
    "        max_colums = 0\n",
    "        total_rows = len(matrix)\n",
    "\n",
    "        for row in matrix:\n",
    "            max_colums = max(max_colums, len(row))\n",
    "\n",
    "        total_rows = max(total_rows, max_colums)\n",
    "        \"\"\"\n",
    "        Matrix = NewType('Matrix', Sequence[Sequence[AnyNum]]) # 定义矩阵类型\n",
    "        请注意matrix是这么定义的\n",
    "        \"\"\"\n",
    "        new_matrix = []\n",
    "        for row in matrix:\n",
    "            row_len = len(row)\n",
    "            new_row = row[:]\n",
    "            if total_rows > row_len:\n",
    "                new_row += [pad_value] * (total_rows - row_len)\n",
    "            new_matrix += [new_row]\n",
    "\n",
    "        \"\"\"\n",
    "        填充额外的行,新填充的额外的行中全是0（填充元素值）\n",
    "        \"\"\"\n",
    "        while len(new_matrix) < total_rows:\n",
    "            new_matrix += [pad_value] * total_rows\n",
    "\n",
    "        return new_matrix"
   ],
   "id": "37a5e33ca7ee9d0",
   "outputs": [],
   "execution_count": 7
  },
  {
   "metadata": {},
   "cell_type": "markdown",
   "source": "### 计算",
   "id": "4604e4afd4952111"
  },
  {
   "metadata": {
    "ExecuteTime": {
     "end_time": "2024-12-03T07:34:48.495787Z",
     "start_time": "2024-12-03T07:34:48.480746Z"
    }
   },
   "cell_type": "code",
   "source": [
    "    def compute(self, cost_matrix: Matrix) -> Sequence[Tuple[int,int]]:\n",
    "\n",
    "\n",
    "        \"\"\"\n",
    "        匈牙利算法的主要计算方法，用于找出最优的分配方案\n",
    "        \"\"\"\n",
    "\n",
    "        self.C = self.pad_matrix(cost_matrix)  # 填充成方阵\n",
    "        self.n = len(self.C)                   # 获取矩阵维度\n",
    "        self.original_length = len(cost_matrix) # 保存原始矩阵的长度\n",
    "        self.original_width = len(cost_matrix[0]) # 保存原始矩阵的宽度\n",
    "\n",
    "\n",
    "        # 初始化覆盖状态数组\n",
    "        self.row_covered = [False for i in range(self.n)]  # 行覆盖状态\n",
    "        self.col_covered = [False for i in range(self.n)]  # 列覆盖状态\n",
    "\n",
    "\n",
    "        # 初始化其他必要变量\n",
    "        self.Z0_r = 0   # 当前位置的行坐标\n",
    "        self.Z0_c = 0   # 当前位置的列坐标\n",
    "        self.path = self.__make_matrix(self.n * 2, 0)    # 路径矩阵\n",
    "        self.marked = self.__make_matrix(self.n, 0)      # 标记矩阵\n",
    "\n",
    "        # 定义算法步骤\n",
    "        steps = {\n",
    "            1: self.__step1,\n",
    "            2: self.__step2,\n",
    "            3: self.__step3,\n",
    "            4: self.__step4,\n",
    "            5: self.__step5,\n",
    "            6: self.__step6\n",
    "        }\n",
    "\n",
    "        # 主循环\n",
    "        while not done:\n",
    "            try:\n",
    "                func = steps[step]\n",
    "                step = func()\n",
    "            except KeyError:\n",
    "                done = True"
   ],
   "id": "1ee6ec9092640c0",
   "outputs": [],
   "execution_count": 8
  },
  {
   "metadata": {
    "ExecuteTime": {
     "end_time": "2024-12-03T07:34:48.526665Z",
     "start_time": "2024-12-03T07:34:48.513175Z"
    }
   },
   "cell_type": "code",
   "source": [
    "    def __copy_matrix(self, matrix: Matrix) -> Matrix:\n",
    "        \"\"\"Return an exact copy of the supplied matrix\"\"\"\n",
    "        return copy.deepcopy(matrix)"
   ],
   "id": "ac369108db3d0f14",
   "outputs": [],
   "execution_count": 9
  },
  {
   "metadata": {
    "ExecuteTime": {
     "end_time": "2024-12-03T07:35:42.637103Z",
     "start_time": "2024-12-03T07:35:42.623150Z"
    }
   },
   "cell_type": "code",
   "source": [
    "    def __make_matrix(self, n: int, val: AnyNum) -> Matrix:\n",
    "\n",
    "        matrix = []\n",
    "        for i in range(n):\n",
    "            # [val for j in range(n)] 创建一个长度为n的列表，每个元素都是val\n",
    "            matrix += [[val for j in range(n)]]\n",
    "        return matrix"
   ],
   "id": "cca0168e4224d45f",
   "outputs": [],
   "execution_count": 12
  },
  {
   "metadata": {
    "ExecuteTime": {
     "end_time": "2024-12-03T07:41:58.644442Z",
     "start_time": "2024-12-03T07:41:58.633469Z"
    }
   },
   "cell_type": "code",
   "source": [
    "def __step1(self) -> int:\n",
    "    \"\"\"\n",
    "    匈牙利算法的第一步：行归约\n",
    "    对矩阵的每一行进行处理，找到每行的最小元素，并将该行的所有元素减去这个最小值\n",
    "\n",
    "    返回值:\n",
    "    int: 返回2，表示下一步应该执行步骤2\n",
    "\n",
    "    异常:\n",
    "    UnsolvableMatrix: 当某一行全部是DISALLOWED值时抛出，表示矩阵无解\n",
    "    \"\"\"\n",
    "    # 获取成本矩阵和矩阵维度\n",
    "    C = self.C\n",
    "    n = self.n\n",
    "\n",
    "    # 遍历矩阵的每一行\n",
    "    for i in range(n):\n",
    "        # 找出当前行中所有非DISALLOWED的值\n",
    "        # DISALLOWED表示该位置不允许分配\n",
    "        vals = [x for x in self.C[i] if x is not DISALLOWED]\n",
    "\n",
    "        # 如果当前行没有有效值（全是DISALLOWED）\n",
    "        if len(vals) == 0:\n",
    "            # 抛出异常，表示矩阵无解\n",
    "            raise UnsolveableMatrix(\n",
    "                \"Row {0} is entirely DISALLOWED.\".format(i)\n",
    "            )\n",
    "\n",
    "        # 获取当前行中的最小值\n",
    "        minval = min(vals)\n",
    "\n",
    "        # 遍历当前行的每个元素\n",
    "        for j in range(n):\n",
    "            # 如果当前元素不是DISALLOWED\n",
    "            if self.C[i][j] is not DISALLOWED:\n",
    "                # 将当前元素减去该行的最小值\n",
    "                # 这样可以确保每行至少有一个0\n",
    "                self.C[i][j] -= minval\n",
    "\n",
    "    # 返回2，表示接下来执行步骤2\n",
    "    return 2\n",
    "\n",
    "\"\"\"\n",
    "使用示例：\n",
    "假设初始矩阵为：\n",
    "[\n",
    "    [4, 2, 3],\n",
    "    [1, 5, 3],\n",
    "    [2, 4, 2]\n",
    "]\n",
    "\n",
    "执行步骤1后的矩阵将变为：\n",
    "[\n",
    "    [2, 0, 1],  # 减去最小值2\n",
    "    [0, 4, 2],  # 减去最小值1\n",
    "    [0, 2, 0]   # 减去最小值2\n",
    "]\n",
    "\n",
    "这样处理的目的是：\n",
    "1. 确保每行至少有一个0\n",
    "2. 为寻找最优匹配做准备\n",
    "3. 保持相对成本差异不变\n",
    "\"\"\""
   ],
   "id": "1a77a617f8d09e93",
   "outputs": [
    {
     "data": {
      "text/plain": [
       "'\\n使用示例：\\n假设初始矩阵为：\\n[\\n    [4, 2, 3],\\n    [1, 5, 3],\\n    [2, 4, 2]\\n]\\n\\n执行步骤1后的矩阵将变为：\\n[\\n    [2, 0, 1],  # 减去最小值2\\n    [0, 4, 2],  # 减去最小值1\\n    [0, 2, 0]   # 减去最小值2\\n]\\n\\n这样处理的目的是：\\n1. 确保每行至少有一个0\\n2. 为寻找最优匹配做准备\\n3. 保持相对成本差异不变\\n'"
      ]
     },
     "execution_count": 13,
     "metadata": {},
     "output_type": "execute_result"
    }
   ],
   "execution_count": 13
  },
  {
   "metadata": {
    "ExecuteTime": {
     "end_time": "2024-12-03T08:01:21.160805Z",
     "start_time": "2024-12-03T08:01:21.145702Z"
    }
   },
   "cell_type": "code",
   "source": "",
   "id": "7f140fc5dc43d6bd",
   "outputs": [],
   "execution_count": null
  }
 ],
 "metadata": {
  "kernelspec": {
   "display_name": "Python 3",
   "language": "python",
   "name": "python3"
  },
  "language_info": {
   "codemirror_mode": {
    "name": "ipython",
    "version": 2
   },
   "file_extension": ".py",
   "mimetype": "text/x-python",
   "name": "python",
   "nbconvert_exporter": "python",
   "pygments_lexer": "ipython2",
   "version": "2.7.6"
  }
 },
 "nbformat": 4,
 "nbformat_minor": 5
}
